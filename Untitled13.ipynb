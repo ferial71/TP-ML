{
 "cells": [
  {
   "cell_type": "code",
   "execution_count": 7,
   "metadata": {},
   "outputs": [
    {
     "name": "stdout",
     "output_type": "stream",
     "text": [
      "-------------------------------------------\n",
      "Time: 2019-11-06 11:53:34\n",
      "-------------------------------------------\n",
      "\n"
     ]
    }
   ],
   "source": [
    "import pyspark\n",
    "from pyspark.mllib.linalg import Vectors\n",
    "from pyspark.mllib.regression import LabeledPoint\n",
    "from pyspark.mllib.clustering import StreamingKMeans\n",
    "\n",
    "# we make an input stream of vectors for training,\n",
    "# as well as a stream of vectors for testing\n",
    "def parse(lp):\n",
    "    label = float(lp[lp.find('(') + 1: lp.find(')')])\n",
    "    vec = Vectors.dense(lp[lp.find('[') + 1: lp.find(']')].split(','))\n",
    "\n",
    "    return LabeledPoint(label, vec)\n",
    "\n",
    "from pyspark import SparkContext, SQLContext\n",
    "from pyspark.ml.regression import LinearRegression\n",
    "from pyspark.streaming import StreamingContext\n",
    "\n",
    "sc = SparkContext.getOrCreate()\n",
    "\n",
    "\n",
    "\n",
    "trainingData = sc.textFile(\"C://Users/feria/Downloads/stagepfe/Module/tp ml/adamhelsinger-web-index-data-2014/adamhelsinger-web-index-data-2014/fh_a_training.txt\")\\\n",
    "    .map(lambda line: Vectors.dense([float(x) for x in line.strip().split(' ')]))\n",
    "\n",
    "testingData = sc.textFile(\"C://Users/feria/Downloads/stagepfe/Module/tp ml/adamhelsinger-web-index-data-2014/adamhelsinger-web-index-data-2014/fh_a_training.txt\").map(parse)\n",
    "\n",
    "trainingQueue = [trainingData]\n",
    "testingQueue = [testingData]\n",
    "\n",
    "ssc = StreamingContext(sc,1)\n",
    "trainingStream = ssc.queueStream(trainingQueue)\n",
    "testingStream = ssc.queueStream(testingQueue)\n",
    "\n",
    "# We create a model with random clusters and specify the number of clusters to find\n",
    "model = StreamingKMeans(k=2, decayFactor=1.0).setRandomCenters(3, 1.0, 0)\n",
    "\n",
    "# Now register the streams for training and testing and start the job,\n",
    "# printing the predicted cluster assignments on new data points as they arrive.\n",
    "model.trainOn(trainingStream)\n",
    "\n",
    "result = model.predictOnValues(testingStream.map(lambda lp: (lp.label, lp.features)))\n",
    "result.pprint()\n",
    "\n",
    "ssc.start()\n",
    "ssc.stop(stopSparkContext=True, stopGraceFully=True)"
   ]
  },
  {
   "cell_type": "code",
   "execution_count": null,
   "metadata": {},
   "outputs": [],
   "source": []
  }
 ],
 "metadata": {
  "kernelspec": {
   "display_name": "Python 3",
   "language": "python",
   "name": "python3"
  },
  "language_info": {
   "codemirror_mode": {
    "name": "ipython",
    "version": 3
   },
   "file_extension": ".py",
   "mimetype": "text/x-python",
   "name": "python",
   "nbconvert_exporter": "python",
   "pygments_lexer": "ipython3",
   "version": "3.7.3"
  }
 },
 "nbformat": 4,
 "nbformat_minor": 2
}
