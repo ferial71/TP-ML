{
 "cells": [
  {
   "cell_type": "code",
   "execution_count": 6,
   "metadata": {},
   "outputs": [
    {
     "ename": "TypeError",
     "evalue": "'DStream' object is not subscriptable",
     "output_type": "error",
     "traceback": [
      "\u001b[1;31m---------------------------------------------------------------------------\u001b[0m",
      "\u001b[1;31mTypeError\u001b[0m                                 Traceback (most recent call last)",
      "\u001b[1;32m<ipython-input-6-76923250707a>\u001b[0m in \u001b[0;36m<module>\u001b[1;34m\u001b[0m\n\u001b[0;32m     48\u001b[0m \u001b[0mresult\u001b[0m\u001b[1;33m.\u001b[0m\u001b[0mpprint\u001b[0m\u001b[1;33m(\u001b[0m\u001b[1;33m)\u001b[0m\u001b[1;33m\u001b[0m\u001b[1;33m\u001b[0m\u001b[0m\n\u001b[0;32m     49\u001b[0m \u001b[1;33m\u001b[0m\u001b[0m\n\u001b[1;32m---> 50\u001b[1;33m \u001b[0mplt\u001b[0m\u001b[1;33m.\u001b[0m\u001b[0mscatter\u001b[0m\u001b[1;33m(\u001b[0m\u001b[0mtestingStream\u001b[0m\u001b[1;33m[\u001b[0m\u001b[1;33m:\u001b[0m\u001b[1;33m,\u001b[0m \u001b[1;36m0\u001b[0m\u001b[1;33m]\u001b[0m\u001b[1;33m,\u001b[0m \u001b[0mtestingStream\u001b[0m\u001b[1;33m[\u001b[0m\u001b[1;33m:\u001b[0m\u001b[1;33m,\u001b[0m \u001b[1;36m1\u001b[0m\u001b[1;33m]\u001b[0m\u001b[1;33m,\u001b[0m \u001b[0mc\u001b[0m\u001b[1;33m=\u001b[0m\u001b[0mresult\u001b[0m\u001b[1;33m,\u001b[0m \u001b[0ms\u001b[0m\u001b[1;33m=\u001b[0m\u001b[1;36m50\u001b[0m\u001b[1;33m,\u001b[0m \u001b[0mcmap\u001b[0m\u001b[1;33m=\u001b[0m\u001b[1;34m'viridis'\u001b[0m\u001b[1;33m)\u001b[0m\u001b[1;33m\u001b[0m\u001b[1;33m\u001b[0m\u001b[0m\n\u001b[0m\u001b[0;32m     51\u001b[0m \u001b[1;33m\u001b[0m\u001b[0m\n\u001b[0;32m     52\u001b[0m \u001b[0mcenters\u001b[0m \u001b[1;33m=\u001b[0m \u001b[0mkmeans\u001b[0m\u001b[1;33m.\u001b[0m\u001b[0mcluster_centers_\u001b[0m\u001b[1;33m\u001b[0m\u001b[1;33m\u001b[0m\u001b[0m\n",
      "\u001b[1;31mTypeError\u001b[0m: 'DStream' object is not subscriptable"
     ]
    }
   ],
   "source": [
    "import pyspark\n",
    "from pyspark.mllib.linalg import Vectors\n",
    "from pyspark.mllib.regression import LabeledPoint\n",
    "from pyspark.mllib.clustering import StreamingKMeans\n",
    "\n",
    "\n",
    "\n",
    "import matplotlib.pyplot as plt\n",
    "import seaborn as sns; sns.set()  # for plot styling\n",
    "import numpy as np\n",
    "\n",
    "# we make an input stream of vectors for training,\n",
    "# as well as a stream of vectors for testing\n",
    "def parse(lp):\n",
    "    label = float(lp[lp.find('(') + 1: lp.find(')')])\n",
    "    vec = Vectors.dense(lp[lp.find('[') + 1: lp.find(']')].split(','))\n",
    "\n",
    "    return LabeledPoint(label, vec)\n",
    "\n",
    "from pyspark import SparkContext, SQLContext\n",
    "from pyspark.ml.regression import LinearRegression\n",
    "from pyspark.streaming import StreamingContext\n",
    "\n",
    "sc = SparkContext.getOrCreate()\n",
    "\n",
    "\n",
    "\n",
    "trainingData = sc.textFile(\"C://Users/feria/Downloads/stagepfe/Module/tp ml/adamhelsinger-web-index-data-2014/adamhelsinger-web-index-data-2014/fh_a_training.txt\")\\\n",
    "    .map(lambda line: Vectors.dense([float(x) for x in line.strip().split(' ')]))\n",
    "\n",
    "testingData = sc.textFile(\"C://Users/feria/Downloads/stagepfe/Module/tp ml/adamhelsinger-web-index-data-2014/adamhelsinger-web-index-data-2014/fh_a_training.txt\").map(parse)\n",
    "\n",
    "trainingQueue = [trainingData]\n",
    "testingQueue = [testingData]\n",
    "\n",
    "ssc = StreamingContext(sc,1)\n",
    "trainingStream = ssc.queueStream(trainingQueue)\n",
    "testingStream = ssc.queueStream(testingQueue)\n",
    "\n",
    "# We create a model with random clusters and specify the number of clusters to find\n",
    "model = StreamingKMeans(k=2, decayFactor=1.0).setRandomCenters(3, 1.0, 0)\n",
    "\n",
    "# Now register the streams for training and testing and start the job,\n",
    "# printing the predicted cluster assignments on new data points as they arrive.\n",
    "model.trainOn(trainingStream)\n",
    "\n",
    "result = model.predictOnValues(testingStream.map(lambda lp: (lp.label, lp.features)))\n",
    "result.pprint()\n",
    "\n",
    "plt.scatter(testingStream[:, 0], testingStream[:, 1], c=result, s=50, cmap='viridis')\n",
    "\n",
    "centers = kmeans.cluster_centers_\n",
    "plt.scatter(centers[:, 0], centers[:, 1], c='black', s=200, alpha=0.5);\n",
    "\n",
    "\n",
    "ssc.start()\n",
    "ssc.stop(stopSparkContext=True, stopGraceFully=True)"
   ]
  },
  {
   "cell_type": "code",
   "execution_count": 2,
   "metadata": {},
   "outputs": [
    {
     "ename": "NameError",
     "evalue": "name 'hjg' is not defined",
     "output_type": "error",
     "traceback": [
      "\u001b[1;31m---------------------------------------------------------------------------\u001b[0m",
      "\u001b[1;31mNameError\u001b[0m                                 Traceback (most recent call last)",
      "\u001b[1;32m<ipython-input-2-eaeca402c611>\u001b[0m in \u001b[0;36m<module>\u001b[1;34m\u001b[0m\n\u001b[1;32m----> 1\u001b[1;33m \u001b[0mhjg\u001b[0m\u001b[1;33m\u001b[0m\u001b[1;33m\u001b[0m\u001b[0m\n\u001b[0m",
      "\u001b[1;31mNameError\u001b[0m: name 'hjg' is not defined"
     ]
    }
   ],
   "source": [
    "hjg"
   ]
  },
  {
   "cell_type": "code",
   "execution_count": 7,
   "metadata": {},
   "outputs": [
    {
     "ename": "ModuleNotFoundError",
     "evalue": "No module named 'plotly'",
     "output_type": "error",
     "traceback": [
      "\u001b[1;31m---------------------------------------------------------------------------\u001b[0m",
      "\u001b[1;31mModuleNotFoundError\u001b[0m                       Traceback (most recent call last)",
      "\u001b[1;32m<ipython-input-7-6361d2547ebc>\u001b[0m in \u001b[0;36m<module>\u001b[1;34m\u001b[0m\n\u001b[1;32m----> 1\u001b[1;33m \u001b[1;32mimport\u001b[0m \u001b[0mplotly\u001b[0m\u001b[1;33m\u001b[0m\u001b[1;33m\u001b[0m\u001b[0m\n\u001b[0m",
      "\u001b[1;31mModuleNotFoundError\u001b[0m: No module named 'plotly'"
     ]
    }
   ],
   "source": [
    "import plotly"
   ]
  },
  {
   "cell_type": "code",
   "execution_count": 26,
   "metadata": {},
   "outputs": [
    {
     "ename": "ModuleNotFoundError",
     "evalue": "No module named 'org'",
     "output_type": "error",
     "traceback": [
      "\u001b[1;31m---------------------------------------------------------------------------\u001b[0m",
      "\u001b[1;31mModuleNotFoundError\u001b[0m                       Traceback (most recent call last)",
      "\u001b[1;32m<ipython-input-26-76668ce2ff3d>\u001b[0m in \u001b[0;36m<module>\u001b[1;34m\u001b[0m\n\u001b[0;32m     18\u001b[0m \u001b[1;31m# package org.apache.spark.examples.mllib\u001b[0m\u001b[1;33m\u001b[0m\u001b[1;33m\u001b[0m\u001b[1;33m\u001b[0m\u001b[0m\n\u001b[0;32m     19\u001b[0m \u001b[1;33m\u001b[0m\u001b[0m\n\u001b[1;32m---> 20\u001b[1;33m \u001b[1;32mimport\u001b[0m \u001b[0morg\u001b[0m\u001b[1;33m.\u001b[0m\u001b[0mapache\u001b[0m\u001b[1;33m.\u001b[0m\u001b[0mspark\u001b[0m\u001b[1;33m.\u001b[0m\u001b[0mSparkConf\u001b[0m\u001b[1;33m\u001b[0m\u001b[1;33m\u001b[0m\u001b[0m\n\u001b[0m\u001b[0;32m     21\u001b[0m \u001b[1;32mimport\u001b[0m \u001b[0morg\u001b[0m\u001b[1;33m.\u001b[0m\u001b[0mapache\u001b[0m\u001b[1;33m.\u001b[0m\u001b[0mspark\u001b[0m\u001b[1;33m.\u001b[0m\u001b[0mmllib\u001b[0m\u001b[1;33m.\u001b[0m\u001b[0mclustering\u001b[0m\u001b[1;33m.\u001b[0m\u001b[0mStreamingKMeans\u001b[0m\u001b[1;33m\u001b[0m\u001b[1;33m\u001b[0m\u001b[0m\n\u001b[0;32m     22\u001b[0m \u001b[1;32mimport\u001b[0m \u001b[0morg\u001b[0m\u001b[1;33m.\u001b[0m\u001b[0mapache\u001b[0m\u001b[1;33m.\u001b[0m\u001b[0mspark\u001b[0m\u001b[1;33m.\u001b[0m\u001b[0mmllib\u001b[0m\u001b[1;33m.\u001b[0m\u001b[0mlinalg\u001b[0m\u001b[1;33m.\u001b[0m\u001b[0mVectors\u001b[0m\u001b[1;33m\u001b[0m\u001b[1;33m\u001b[0m\u001b[0m\n",
      "\u001b[1;31mModuleNotFoundError\u001b[0m: No module named 'org'"
     ]
    }
   ],
   "source": [
    "# ####\"\"*\n",
    "#  * Licensed to the Apache Software Foundation (ASF) under one or more\n",
    "#  * contributor license agreements.  See the NOTICE file distributed with\n",
    "#  * this work for additional information regarding copyright ownership.\n",
    "#  * The ASF licenses this file to You under the Apache License, Version 2.0\n",
    "#  * (the \"License\"); you may not use this file except in compliance with\n",
    "#  * the License.  You may obtain a copy of the License at\n",
    "#  *\n",
    "#  *    http://www.apache.org/licenses/LICENSE-2.0\n",
    "#  *\n",
    "#  * Unless required by applicable law or agreed to in writing, software\n",
    "#  * distributed under the License is distributed on an \"AS IS\" BASIS,\n",
    "#  * WITHOUT WARRANTIES OR CONDITIONS OF ANY KIND, either express or implied.\n",
    "#  * See the License for the specific language governing permissions and\n",
    "#  * limitations under the License.\n",
    "#  */\n",
    "\n",
    "# package org.apache.spark.examples.mllib\n",
    "\n",
    "import org.apache.spark.SparkConf\n",
    "import org.apache.spark.mllib.clustering.StreamingKMeans\n",
    "import org.apache.spark.mllib.linalg.Vectors\n",
    "import org.apache.spark.mllib.regression.LabeledPoint\n",
    "import org.apache.spark.streaming.Seconds\n",
    "import org.apache.spark.streaming.StreamingContext\n",
    "\n",
    "# /**\n",
    "#  * Estimate clusters on one stream of data and make predictions\n",
    "#  * on another stream, where the data streams arrive as text files\n",
    "#  * into two different directories.\n",
    "#  *\n",
    "#  * The rows of the training text files must be vector data in the form\n",
    "#  * `[x1,x2,x3,...,xn]`\n",
    "#  * Where n is the number of dimensions.\n",
    "#  *\n",
    "#  * The rows of the test text files must be labeled data in the form\n",
    "#  * `(y,[x1,x2,x3,...,xn])`\n",
    "#  * Where y is some identifier. n must be the same for train and test.\n",
    "#  *\n",
    "#  * Usage:\n",
    "#  *   StreamingKMeansExample <trainingDir> <testDir> <batchDuration> <numClusters> <numDimensions>\n",
    "#  *\n",
    "#  * To run on your local machine using the two directories `trainingDir` and `testDir`,\n",
    "#  * with updates every 5 seconds, 2 dimensions per data point, and 3 clusters, call:\n",
    "#  *    $ bin/run-example mllib.StreamingKMeansExample trainingDir testDir 5 3 2\n",
    "#  *\n",
    "#  * As you add text files to `trainingDir` the clusters will continuously update.\n",
    "#  * Anytime you add text files to `testDir`, you'll see predicted labels using the current model.\n",
    "#  *\n",
    "#  */\n",
    "\n",
    "\n",
    "def main(args: Array[String]) :\n",
    "    if (args.length != 5) :\n",
    "        System.err.println(\n",
    "        \"Usage: StreamingKMeansExample \" +\n",
    "        \"<trainingDir> <testDir> <batchDuration> <numClusters> <numDimensions>\")\n",
    "        System.exit(1)\n",
    "\n",
    "\n",
    "conf = SparkConf().setMaster(\"local\").setAppName(\"StreamingKMeansExample\")\n",
    "ssc = StreamingContext(conf, Seconds(args(2).toLong))\n",
    "\n",
    "trainingData = ssc.textFileStream(args(0)).map(Vectors.parse)\n",
    "testData = ssc.textFileStream(args(1)).map(LabeledPoint.parse)\n",
    "\n",
    "val = StreamingKMeans().setK(args(3).toInt).setDecayFactor(1.0).setRandomCenters(args(4).toInt, 0.0)\n",
    "\n",
    "model.trainOn(trainingData)\n",
    "model.predictOnValues(testData.map(lp = (lp.label, lp.features))).print()\n",
    "\n",
    "ssc.start()\n",
    "ssc.awaitTermination()\n",
    "\n"
   ]
  },
  {
   "cell_type": "code",
   "execution_count": 112,
   "metadata": {},
   "outputs": [
    {
     "name": "stdout",
     "output_type": "stream",
     "text": [
      "-------------------------------------------\n",
      "Time: 2019-11-06 19:28:31\n",
      "-------------------------------------------\n",
      "\n",
      "Final centers: [[ 1.76405235  0.40015721  0.97873798  2.2408932 ]\n",
      " [ 1.86755799 -0.97727788  0.95008842 -0.15135721]]\n"
     ]
    },
    {
     "name": "stderr",
     "output_type": "stream",
     "text": [
      "C:\\Users\\feria\\Anaconda3\\lib\\site-packages\\matplotlib\\figure.py:445: UserWarning: Matplotlib is currently using module://ipykernel.pylab.backend_inline, which is a non-GUI backend, so cannot show the figure.\n",
      "  % get_backend())\n"
     ]
    },
    {
     "data": {
      "image/png": "[encoded data removed]",
      "text/plain": [
       "<Figure size 432x288 with 2 Axes>"
      ]
     },
     "metadata": {},
     "output_type": "display_data"
    }
   ],
   "source": [
    "\n",
    "from __future__ import print_function\n",
    "\n",
    "from pyspark import SparkContext\n",
    "from pyspark.streaming import StreamingContext\n",
    "# $example on$\n",
    "from pyspark.mllib.linalg import Vectors\n",
    "from pyspark.mllib.regression import LabeledPoint\n",
    "from pyspark.mllib.clustering import StreamingKMeans\n",
    "# $example off$\n",
    "\n",
    "\n",
    "\n",
    "\n",
    "if __name__ == \"__main__\":\n",
    "    sc = SparkContext.getOrCreate()\n",
    "#     sc = SparkContext(appName=\"StreamingKMeansExample\")  # SparkContext\n",
    "    ssc = StreamingContext(sc, 1)\n",
    "\n",
    "    # $example on$\n",
    "    # we make an input stream of vectors for training,\n",
    "    # as well as a stream of vectors for testing\n",
    "    def parse(lp):\n",
    "        label = float(lp[lp.find('(') + 1: lp.find(')')])\n",
    "        vec = Vectors.dense(lp[lp.find('[') + 1: lp.find(']')].split(','))\n",
    "\n",
    "        return LabeledPoint(label, vec)\n",
    "\n",
    "    trainingData = sc.textFile(\"C://Users/feria/Downloads/stagepfe/Module/tp ml/adamhelsinger-web-index-data-2014/adamhelsinger-web-index-data-2014/fh_a_training.txt\")\\\n",
    "        .map(lambda line: Vectors.dense([float(x) for x in line.strip().split(' ')]))\n",
    "\n",
    "    testingData = sc.textFile(\"C://Users/feria/Downloads/stagepfe/Module/tp ml/adamhelsinger-web-index-data-2014/adamhelsinger-web-index-data-2014/fh_a_testing.txt\").map(parse)\n",
    "\n",
    "    trainingQueue = [trainingData]\n",
    "    testingQueue = [testingData]\n",
    "\n",
    "    trainingStream = ssc.queueStream(trainingQueue)\n",
    "    testingStream = ssc.queueStream(testingQueue)\n",
    "\n",
    "    # We create a model with random clusters and specify the number of clusters to find\n",
    "    model = StreamingKMeans(k=2, decayFactor=1.0).setRandomCenters(4, 1.0, 0)\n",
    "\n",
    "    # Now register the streams for training and testing and start the job,\n",
    "    # printing the predicted cluster assignments on new data points as they arrive.\n",
    "    model.trainOn(trainingStream)\n",
    "\n",
    "    result = model.predictOnValues(testingStream.map(lambda lp: (lp.label, lp.features)))\n",
    "    result.pprint()\n",
    "    \n",
    "\n",
    "    ssc.start()\n",
    "    ssc.stop(stopSparkContext=True, stopGraceFully=True)\n",
    "    # $example off$\n",
    "    \n",
    "    print(\"Final centers: \" + str(model.latestModel().centers))\n",
    "    \n",
    "\n",
    "    \n",
    "    import numpy as np\n",
    "import matplotlib.pyplot as plt\n",
    "\n",
    "x = np.random.randn(10)\n",
    "y = np.random.randn(10)\n",
    "Cluster = np.array([0, 1, 1, 1, 3, 2, 2, 3, 0, 2])    # Labels of cluster 0 to 3\n",
    "centers = np.random.randn(4, 2) \n",
    "\n",
    "fig = plt.figure()\n",
    "ax = fig.add_subplot(111)\n",
    "scatter = ax.scatter(x,y,c=Cluster,s=50)\n",
    "for i,j in centers:\n",
    "    ax.scatter(i,j,s=50,c='red',marker='+')\n",
    "ax.set_xlabel('x')\n",
    "ax.set_ylabel('y')\n",
    "plt.colorbar(scatter)\n",
    "\n",
    "fig.show()\n",
    "\n",
    "#fig = plt.figure()\n",
    "#ax = fig.add_subplot(111)\n",
    "#scatter = ax.scatter(trainingData['freedom_house_political_rights'], trainingData['2008'], s=50, alpha=0.5)\n",
    "#ax.set_title('Streaming K-Means Clustering')\n",
    "#ax.set_xlabel('freedom_house_political_rights')\n",
    "#ax.set_ylabel('2008')\n",
    "##plt.colorbar(scatter)\n",
    "    \n",
    "   \n",
    "    \n",
    "   "
   ]
  },
  {
   "cell_type": "code",
   "execution_count": 69,
   "metadata": {},
   "outputs": [
    {
     "ename": "TypeError",
     "evalue": "'TransformedDStream' object is not subscriptable",
     "output_type": "error",
     "traceback": [
      "\u001b[1;31m---------------------------------------------------------------------------\u001b[0m",
      "\u001b[1;31mTypeError\u001b[0m                                 Traceback (most recent call last)",
      "\u001b[1;32m<ipython-input-69-b3e6154bcdbd>\u001b[0m in \u001b[0;36m<module>\u001b[1;34m\u001b[0m\n\u001b[1;32m----> 1\u001b[1;33m \u001b[0mprint\u001b[0m\u001b[1;33m(\u001b[0m\u001b[0mstr\u001b[0m\u001b[1;33m(\u001b[0m\u001b[0mresult\u001b[0m\u001b[1;33m[\u001b[0m\u001b[1;36m0\u001b[0m\u001b[1;33m]\u001b[0m\u001b[1;33m)\u001b[0m\u001b[1;33m)\u001b[0m\u001b[1;33m\u001b[0m\u001b[1;33m\u001b[0m\u001b[0m\n\u001b[0m",
      "\u001b[1;31mTypeError\u001b[0m: 'TransformedDStream' object is not subscriptable"
     ]
    }
   ],
   "source": [
    "print(str(result[0]))"
   ]
  },
  {
   "cell_type": "code",
   "execution_count": 51,
   "metadata": {},
   "outputs": [
    {
     "ename": "TypeError",
     "evalue": "'StreamingKMeans' object is not subscriptable",
     "output_type": "error",
     "traceback": [
      "\u001b[1;31m---------------------------------------------------------------------------\u001b[0m",
      "\u001b[1;31mTypeError\u001b[0m                                 Traceback (most recent call last)",
      "\u001b[1;32m<ipython-input-51-0163af156e4a>\u001b[0m in \u001b[0;36m<module>\u001b[1;34m\u001b[0m\n\u001b[0;32m      1\u001b[0m \u001b[0mplt\u001b[0m\u001b[1;33m.\u001b[0m\u001b[0mscatter\u001b[0m\u001b[1;33m(\u001b[0m\u001b[0mcereal_df\u001b[0m\u001b[1;33m[\u001b[0m\u001b[1;34m'freedom_house_political_rights'\u001b[0m\u001b[1;33m]\u001b[0m\u001b[1;33m,\u001b[0m \u001b[0mcereal_df\u001b[0m\u001b[1;33m[\u001b[0m\u001b[1;34m'2008'\u001b[0m\u001b[1;33m]\u001b[0m\u001b[1;33m,\u001b[0m \u001b[0ms\u001b[0m\u001b[1;33m=\u001b[0m\u001b[1;36m50\u001b[0m\u001b[1;33m,\u001b[0m \u001b[0malpha\u001b[0m\u001b[1;33m=\u001b[0m\u001b[1;36m0.5\u001b[0m\u001b[1;33m)\u001b[0m\u001b[1;33m\u001b[0m\u001b[1;33m\u001b[0m\u001b[0m\n\u001b[1;32m----> 2\u001b[1;33m \u001b[0mplt\u001b[0m\u001b[1;33m.\u001b[0m\u001b[0mscatter\u001b[0m\u001b[1;33m(\u001b[0m\u001b[0mmodel\u001b[0m\u001b[1;33m[\u001b[0m\u001b[1;33m:\u001b[0m\u001b[1;33m,\u001b[0m \u001b[1;36m0\u001b[0m\u001b[1;33m]\u001b[0m\u001b[1;33m,\u001b[0m \u001b[0mmodel\u001b[0m\u001b[1;33m[\u001b[0m\u001b[1;33m:\u001b[0m\u001b[1;33m,\u001b[0m \u001b[1;36m1\u001b[0m\u001b[1;33m]\u001b[0m\u001b[1;33m)\u001b[0m\u001b[1;33m\u001b[0m\u001b[1;33m\u001b[0m\u001b[0m\n\u001b[0m",
      "\u001b[1;31mTypeError\u001b[0m: 'StreamingKMeans' object is not subscriptable"
     ]
    },
    {
     "data": {
      "image/png": "[encoded data removed]",
      "text/plain": [
       "<Figure size 432x288 with 1 Axes>"
      ]
     },
     "metadata": {},
     "output_type": "display_data"
    }
   ],
   "source": [
    "plt.scatter(cereal_df['freedom_house_political_rights'], cereal_df['2008'], s=50, alpha=0.5)\n",
    "plt.scatter(model[:, 0], model[:, 1])\n"
   ]
  },
  {
   "cell_type": "code",
   "execution_count": 52,
   "metadata": {},
   "outputs": [
    {
     "ename": "ModuleNotFoundError",
     "evalue": "No module named 'mlstreaming'",
     "output_type": "error",
     "traceback": [
      "\u001b[1;31m---------------------------------------------------------------------------\u001b[0m",
      "\u001b[1;31mModuleNotFoundError\u001b[0m                       Traceback (most recent call last)",
      "\u001b[1;32m<ipython-input-52-7577505d8e6a>\u001b[0m in \u001b[0;36m<module>\u001b[1;34m\u001b[0m\n\u001b[0;32m      7\u001b[0m \u001b[1;32mfrom\u001b[0m \u001b[0mlightning\u001b[0m \u001b[1;32mimport\u001b[0m \u001b[0mLightning\u001b[0m\u001b[1;33m\u001b[0m\u001b[1;33m\u001b[0m\u001b[0m\n\u001b[0;32m      8\u001b[0m \u001b[1;33m\u001b[0m\u001b[0m\n\u001b[1;32m----> 9\u001b[1;33m \u001b[1;32mfrom\u001b[0m \u001b[0mmlstreaming\u001b[0m \u001b[1;32mimport\u001b[0m \u001b[0mStreamingDemo\u001b[0m\u001b[1;33m\u001b[0m\u001b[1;33m\u001b[0m\u001b[0m\n\u001b[0m\u001b[0;32m     10\u001b[0m \u001b[1;32mfrom\u001b[0m \u001b[0mmlstreaming\u001b[0m\u001b[1;33m.\u001b[0m\u001b[0mutil\u001b[0m \u001b[1;32mimport\u001b[0m \u001b[0mfindspark\u001b[0m\u001b[1;33m,\u001b[0m \u001b[0mfindjar\u001b[0m\u001b[1;33m,\u001b[0m \u001b[0mbaseargs\u001b[0m\u001b[1;33m\u001b[0m\u001b[1;33m\u001b[0m\u001b[0m\n\u001b[0;32m     11\u001b[0m \u001b[1;33m\u001b[0m\u001b[0m\n",
      "\u001b[1;31mModuleNotFoundError\u001b[0m: No module named 'mlstreaming'"
     ]
    }
   ],
   "source": [
    "import time\n",
    "import subprocess\n",
    "import argparse\n",
    "import os\n",
    "import tempfile\n",
    "\n",
    "from lightning import Lightning\n",
    "\n",
    "from mlstreaming import StreamingDemo\n",
    "from mlstreaming.util import findspark, findjar, baseargs\n",
    "\n",
    "def main():\n",
    "\n",
    "    # parse arguments\n",
    "    parser = argparse.ArgumentParser(description='Streaming KMeans demo.')\n",
    "    parser = baseargs(parser)\n",
    "    parser.add_argument('-nc', '--ncenters', type=int, default=3, required=False, \n",
    "        help='Number of cluster centers')\n",
    "    parser.add_argument('-nd', '--ndims', type=int, default=2, required=False, \n",
    "        help='Number of dimensions')\n",
    "    parser.add_argument('-rs', '--randomseed', type=int, default=None, required=False,\n",
    "        help='Random seed')\n",
    "    parser.add_argument('-sd', '--std', type=float, default=0.3, required=False,\n",
    "        help='Standard deviation of points')\n",
    "    parser.add_argument('-up', '--update', type=str, choices=('jump', 'drift', 'none'), default='drift', required=False,\n",
    "        help='Update behavior')\n",
    "    parser.add_argument('-a', '--autoopen', type=bool, choices=(True, False), default=True, required=False,\n",
    "        help='Whether to automatically open Lightning session on a browser')\n",
    "    args = parser.parse_args()\n",
    "\n",
    "    # basic setup\n",
    "    sparkhome = findspark()\n",
    "    jar = findjar()\n",
    "    \n",
    "    # set up lightning\n",
    "    if args.lightning:\n",
    "        lgn = Lightning(args.lightning)\n",
    "        lgn.create_session('streaming-kmeans')\n",
    "        if (args.autoopen):\n",
    "            lgn.session.open()\n",
    "    else:\n",
    "        lgn = None\n",
    "\n",
    "    # set temp path\n",
    "    path = args.path\n",
    "    if not path or path == '':\n",
    "        path = tempfile.gettempdir()\n",
    "    tmpdir = os.path.join(path, 'streamkmeans')\n",
    "\n",
    "    # setup the demo\n",
    "    s = StreamingDemo.make('kmeans', npoints=args.npoints, nbatches=args.nbatches)\n",
    "    s.setup(tmpdir, overwrite=args.overwrite)\n",
    "    s.params(ncenters=args.ncenters, ndims=args.ndims, std=args.std, seed=args.randomseed, update=args.update)\n",
    "\n",
    "    # setup the spark job\n",
    "    sparkSubmit = sparkhome + \"/bin/spark-submit\"\n",
    "    sparkArgs = [\"--class\", \"spark.mlstreaming.KMeans\", jar]\n",
    "    demoArgs = [s.datain, s.dataout, str(args.batchtime), str(args.ncenters), str(args.ndims), str(args.halflife), str(args.timeunit)]\n",
    "    cmd = [sparkSubmit] + sparkArgs + demoArgs\n",
    "\n",
    "    try:\n",
    "        # start the spark job    \n",
    "        p = subprocess.Popen(cmd)\n",
    "        # wait for spark streaming to start up\n",
    "        time.sleep(4)\n",
    "        # start the demo\n",
    "        s.run(lgn)\n",
    "\n",
    "    finally:\n",
    "\n",
    "       p.kill()\n",
    "\n",
    "if __name__ == \"__main__\":\n",
    "    main()\n"
   ]
  },
  {
   "cell_type": "code",
   "execution_count": 111,
   "metadata": {},
   "outputs": [
    {
     "name": "stdout",
     "output_type": "stream",
     "text": [
      "[[ 1.76405235  0.40015721  0.97873798]\n",
      " [ 2.2408932   1.86755799 -0.97727788]]\n"
     ]
    },
    {
     "name": "stderr",
     "output_type": "stream",
     "text": [
      "C:\\Users\\feria\\Anaconda3\\lib\\site-packages\\matplotlib\\figure.py:445: UserWarning: Matplotlib is currently using module://ipykernel.pylab.backend_inline, which is a non-GUI backend, so cannot show the figure.\n",
      "  % get_backend())\n"
     ]
    },
    {
     "data": {
      "image/png": "[encoded data removed]",
      "text/plain": [
       "<Figure size 432x288 with 2 Axes>"
      ]
     },
     "metadata": {},
     "output_type": "display_data"
    }
   ],
   "source": [
    "import numpy as np\n",
    "import matplotlib.pyplot as plt\n",
    "\n",
    "x = np.random.randn(10)\n",
    "y = np.random.randn(10)\n",
    "Cluster = np.array([0, 1, 1, 1, 3, 2, 2, 3, 0, 2])    # Labels of cluster 0 to 3\n",
    "centers = np.random.randn(4, 2) \n",
    "\n",
    "fig = plt.figure()\n",
    "ax = fig.add_subplot(111)\n",
    "scatter = ax.scatter(x,y,c=Cluster,s=50)\n",
    "\n",
    "\n",
    "for i,j in centers:\n",
    "    ax.scatter(i,j,s=50,c='red',marker='+')  \n",
    "    \n",
    "    \n",
    "ax.set_xlabel('x')\n",
    "ax.set_ylabel('y')\n",
    "plt.colorbar(scatter)\n",
    "\n",
    "fig.show()\n",
    "print(model.latestModel().centers)"
   ]
  },
  {
   "cell_type": "code",
   "execution_count": 105,
   "metadata": {},
   "outputs": [
    {
     "data": {
      "text/plain": [
       "numpy.ndarray"
      ]
     },
     "execution_count": 105,
     "metadata": {},
     "output_type": "execute_result"
    }
   ],
   "source": [
    "type(model.latestModel().centers)"
   ]
  },
  {
   "cell_type": "code",
   "execution_count": null,
   "metadata": {},
   "outputs": [],
   "source": []
  }
 ],
 "metadata": {
  "kernelspec": {
   "display_name": "Python 3",
   "language": "python",
   "name": "python3"
  },
  "language_info": {
   "codemirror_mode": {
    "name": "ipython",
    "version": 3
   },
   "file_extension": ".py",
   "mimetype": "text/x-python",
   "name": "python",
   "nbconvert_exporter": "python",
   "pygments_lexer": "ipython3",
   "version": "3.7.3"
  }
 },
 "nbformat": 4,
 "nbformat_minor": 2
}
